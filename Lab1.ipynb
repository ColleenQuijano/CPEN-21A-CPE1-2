{
  "nbformat": 4,
  "nbformat_minor": 0,
  "metadata": {
    "colab": {
      "name": "Lab1.ipynb",
      "provenance": [],
      "authorship_tag": "ABX9TyMYYSYRnRFP6urX2amVTkK+",
      "include_colab_link": true
    },
    "kernelspec": {
      "name": "python3",
      "display_name": "Python 3"
    },
    "language_info": {
      "name": "python"
    }
  },
  "cells": [
    {
      "cell_type": "markdown",
      "metadata": {
        "id": "view-in-github",
        "colab_type": "text"
      },
      "source": [
        "<a href=\"https://colab.research.google.com/github/cocolleen/CPEN-21A-CPE1-2/blob/main/Lab1.ipynb\" target=\"_parent\"><img src=\"https://colab.research.google.com/assets/colab-badge.svg\" alt=\"Open In Colab\"/></a>"
      ]
    },
    {
      "cell_type": "markdown",
      "metadata": {
        "id": "mJrx1HHy7G9P"
      },
      "source": [
        "#Laboratory 1"
      ]
    },
    {
      "cell_type": "code",
      "metadata": {
        "colab": {
          "base_uri": "https://localhost:8080/"
        },
        "id": "snRz9XpJ7wQ1",
        "outputId": "1dc17e1f-bade-47ab-e04b-e0362d9e4043"
      },
      "source": [
        "print (\"Welcome to Python Programming\")"
      ],
      "execution_count": 18,
      "outputs": [
        {
          "output_type": "stream",
          "name": "stdout",
          "text": [
            "Welcome to Python Programming\n"
          ]
        }
      ]
    },
    {
      "cell_type": "code",
      "metadata": {
        "colab": {
          "base_uri": "https://localhost:8080/"
        },
        "id": "SpCqi6B62mu5",
        "outputId": "7a7f127f-1b15-422a-ad25-68a86077f09d"
      },
      "source": [
        "\n",
        "name = \"Colleen M. Quijano\"\n",
        "address = \"410 De Guzman St. Caridad, Cavite City\"\n",
        "age =  \"18 years old\"\n",
        "\n",
        "print (\"  Hi, Good Day! I am \" + name)\n",
        "print (\"  Currently living at \" + address)\n",
        "print (\"  I am now \" + age)\n",
        "\n",
        "\n"
      ],
      "execution_count": 21,
      "outputs": [
        {
          "output_type": "stream",
          "name": "stdout",
          "text": [
            "  Hi, Good Day! I am Colleen M. Quijano\n",
            "  Currently living at 410 De Guzman St. Caridad, Cavite City\n",
            "  I am now 18 years old\n"
          ]
        }
      ]
    }
  ]
}