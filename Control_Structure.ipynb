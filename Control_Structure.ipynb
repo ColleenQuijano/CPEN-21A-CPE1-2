{
  "nbformat": 4,
  "nbformat_minor": 0,
  "metadata": {
    "colab": {
      "name": "Control Structure.ipynb",
      "provenance": [],
      "collapsed_sections": [],
      "authorship_tag": "ABX9TyO+0nD5e7oWz742kVhT1/rV",
      "include_colab_link": true
    },
    "kernelspec": {
      "name": "python3",
      "display_name": "Python 3"
    },
    "language_info": {
      "name": "python"
    }
  },
  "cells": [
    {
      "cell_type": "markdown",
      "metadata": {
        "id": "view-in-github",
        "colab_type": "text"
      },
      "source": [
        "<a href=\"https://colab.research.google.com/github/cocolleen/CPEN-21A-CPE1-2/blob/main/Control_Structure.ipynb\" target=\"_parent\"><img src=\"https://colab.research.google.com/assets/colab-badge.svg\" alt=\"Open In Colab\"/></a>"
      ]
    },
    {
      "cell_type": "markdown",
      "metadata": {
        "id": "LqqWxWiEH3QH"
      },
      "source": [
        "##If Statement "
      ]
    },
    {
      "cell_type": "code",
      "metadata": {
        "colab": {
          "base_uri": "https://localhost:8080/"
        },
        "id": "x85PDsVqH9VG",
        "outputId": "fad7bb87-dbad-4a75-9c7d-b8c5bbe5142f"
      },
      "source": [
        "a = 12\n",
        "b = 100\n",
        "\n",
        "if b > a:\n",
        "  print (\"b is greater than a\")"
      ],
      "execution_count": null,
      "outputs": [
        {
          "output_type": "stream",
          "name": "stdout",
          "text": [
            "b is greater than a\n"
          ]
        }
      ]
    },
    {
      "cell_type": "markdown",
      "metadata": {
        "id": "XbFILLQ4ITmg"
      },
      "source": [
        "##Elif Statement"
      ]
    },
    {
      "cell_type": "code",
      "metadata": {
        "colab": {
          "base_uri": "https://localhost:8080/"
        },
        "id": "21gEh31yIXeB",
        "outputId": "68de1384-904d-42d6-e5ea-efc3017afa55"
      },
      "source": [
        "a = 12\n",
        "b = 100\n",
        "\n",
        "if b > a:\n",
        "  print (\"b is greater than a\")\n",
        "elif a > b:\n",
        "  print (\"a is greater than b\")"
      ],
      "execution_count": null,
      "outputs": [
        {
          "output_type": "stream",
          "name": "stdout",
          "text": [
            "b is greater than a\n"
          ]
        }
      ]
    },
    {
      "cell_type": "code",
      "metadata": {
        "colab": {
          "base_uri": "https://localhost:8080/"
        },
        "id": "Oy9L0RU1IrQY",
        "outputId": "8c497ea9-7fad-49db-d628-a3f469042bfa"
      },
      "source": [
        "a = 120\n",
        "b = 100\n",
        "\n",
        "if b > a:\n",
        "  print (\"b is greater than a\")\n",
        "elif a > b:\n",
        "  print (\"a is greater than b\")"
      ],
      "execution_count": null,
      "outputs": [
        {
          "output_type": "stream",
          "name": "stdout",
          "text": [
            "a is greater than b\n"
          ]
        }
      ]
    },
    {
      "cell_type": "markdown",
      "metadata": {
        "id": "um2GpLp5IwFu"
      },
      "source": [
        "##Else Statement"
      ]
    },
    {
      "cell_type": "code",
      "metadata": {
        "colab": {
          "base_uri": "https://localhost:8080/"
        },
        "id": "r-MovuY0IzPE",
        "outputId": "d51a2192-7a86-4747-f462-e012a73930ad"
      },
      "source": [
        "a = 100\n",
        "b = 100\n",
        "\n",
        "if b > a:\n",
        "  print (\"b is greater than a\")\n",
        "elif a > b:\n",
        "  print (\"a is greater than b\")\n",
        "else:\n",
        "  print (\"a is equal to b\")"
      ],
      "execution_count": null,
      "outputs": [
        {
          "output_type": "stream",
          "name": "stdout",
          "text": [
            "a is equal to b\n"
          ]
        }
      ]
    },
    {
      "cell_type": "markdown",
      "metadata": {
        "id": "R8GjoRGHJn9v"
      },
      "source": [
        "##Short Hand If Statement"
      ]
    },
    {
      "cell_type": "code",
      "metadata": {
        "colab": {
          "base_uri": "https://localhost:8080/"
        },
        "id": "ZLK_4QWdJsPt",
        "outputId": "bc7b6aa4-cddb-407e-e26b-e704099db1d8"
      },
      "source": [
        "a = 46\n",
        "b = 30\n",
        "\n",
        "if a > b: print (\" a is greater than b\")"
      ],
      "execution_count": null,
      "outputs": [
        {
          "output_type": "stream",
          "name": "stdout",
          "text": [
            " a is greater than b\n"
          ]
        }
      ]
    },
    {
      "cell_type": "markdown",
      "metadata": {
        "id": "z4RUZNI8J-0B"
      },
      "source": [
        "##Short Hand Else Statement"
      ]
    },
    {
      "cell_type": "code",
      "metadata": {
        "colab": {
          "base_uri": "https://localhost:8080/"
        },
        "id": "YSJND4ylJ7mr",
        "outputId": "931a9f6e-4db9-47ae-e6b3-24a8f10b706b"
      },
      "source": [
        "a = 30\n",
        "b = 46\n",
        "\n",
        "print (\" a is greater than b\") if a > b else print (\"b is greater than b\")"
      ],
      "execution_count": null,
      "outputs": [
        {
          "output_type": "stream",
          "name": "stdout",
          "text": [
            "b is greater than b\n"
          ]
        }
      ]
    },
    {
      "cell_type": "markdown",
      "metadata": {
        "id": "a7NHX96IKto6"
      },
      "source": [
        "##And-Both conditions are true (&)"
      ]
    },
    {
      "cell_type": "code",
      "metadata": {
        "colab": {
          "base_uri": "https://localhost:8080/"
        },
        "id": "ET0LHNSUK2QH",
        "outputId": "b41e478b-50e3-47e6-bb4a-fa8881e58fba"
      },
      "source": [
        "a = 200\n",
        "b = 33\n",
        "c= 55\n",
        "\n",
        "if a > b or c > a:\n",
        "    print (\"Both statements are true.\")"
      ],
      "execution_count": null,
      "outputs": [
        {
          "output_type": "stream",
          "name": "stdout",
          "text": [
            "Both statements are true.\n"
          ]
        }
      ]
    },
    {
      "cell_type": "code",
      "metadata": {
        "colab": {
          "base_uri": "https://localhost:8080/"
        },
        "id": "aQCbWnXtLUSg",
        "outputId": "ed49f9cc-5c89-4f65-ced8-5810e02bfedc"
      },
      "source": [
        "x = 7\n",
        "\n",
        "if x > 5 and x > 6:\n",
        "  print (\"Both conditions are True\")"
      ],
      "execution_count": null,
      "outputs": [
        {
          "output_type": "stream",
          "name": "stdout",
          "text": [
            "Both conditions are True\n"
          ]
        }
      ]
    },
    {
      "cell_type": "markdown",
      "metadata": {
        "id": "SzbbJDG_Lhd2"
      },
      "source": [
        "##Or logic condition"
      ]
    },
    {
      "cell_type": "code",
      "metadata": {
        "colab": {
          "base_uri": "https://localhost:8080/"
        },
        "id": "-RYfhWjNLoGl",
        "outputId": "92fb8438-97b5-420e-ee16-28ae1b155225"
      },
      "source": [
        "x = 19\n",
        "\n",
        "if x > 16 or x > 15:\n",
        "  print (\"False\")"
      ],
      "execution_count": null,
      "outputs": [
        {
          "output_type": "stream",
          "name": "stdout",
          "text": [
            "False\n"
          ]
        }
      ]
    },
    {
      "cell_type": "code",
      "metadata": {
        "colab": {
          "base_uri": "https://localhost:8080/"
        },
        "id": "XeIcFt8CMF4f",
        "outputId": "80220ab1-24c5-4212-f749-61a39a17ab5c"
      },
      "source": [
        "if  x > 10:\n",
        "  print (\"Above 10\")\n",
        "  if  x > 20:\n",
        "    print (\"Above 20\")\n",
        "  else:\n",
        "      print (\"Above 30\")\n",
        "else:\n",
        "  print (\"less than 10\")\n"
      ],
      "execution_count": null,
      "outputs": [
        {
          "output_type": "stream",
          "name": "stdout",
          "text": [
            "Above 10\n",
            "Above 30\n"
          ]
        }
      ]
    },
    {
      "cell_type": "markdown",
      "metadata": {
        "id": "jpf1PEHEM5Y1"
      },
      "source": [
        "#Example 1"
      ]
    },
    {
      "cell_type": "code",
      "metadata": {
        "id": "cVGPmnutM8Sw",
        "colab": {
          "base_uri": "https://localhost:8080/"
        },
        "outputId": "46a6804f-9a7b-4f83-cb42-efef1c73666f"
      },
      "source": [
        "age = int(input(\"Enter your age:  \"))\n",
        "\n",
        "if age >= 18:\n",
        "  print (\"You are not qualified to vote.\")\n",
        "else:\n",
        "  print (\"You are qualified to vote.\")"
      ],
      "execution_count": 38,
      "outputs": [
        {
          "output_type": "stream",
          "name": "stdout",
          "text": [
            "Enter your age:  16\n",
            "You are qualified to vote.\n"
          ]
        }
      ]
    },
    {
      "cell_type": "markdown",
      "metadata": {
        "id": "JVA0lXXwNuWS"
      },
      "source": [
        "Example 2"
      ]
    },
    {
      "cell_type": "code",
      "metadata": {
        "id": "NlFgBKdjN1MT",
        "colab": {
          "base_uri": "https://localhost:8080/"
        },
        "outputId": "3ae42535-e480-4353-a0a2-c6aec97cc685"
      },
      "source": [
        "number = float(input(\"Enter the number: \"))\n",
        "\n",
        "if number == 0:\n",
        "  print (\"Zero\")\n",
        "elif number >0:\n",
        "  print (\"Positive\")\n",
        "else:\n",
        "  print (\"Negative\")"
      ],
      "execution_count": 40,
      "outputs": [
        {
          "output_type": "stream",
          "name": "stdout",
          "text": [
            "Enter the number: 13\n",
            "Positive\n"
          ]
        }
      ]
    },
    {
      "cell_type": "code",
      "metadata": {
        "colab": {
          "base_uri": "https://localhost:8080/"
        },
        "id": "FN41CwtgQRs4",
        "outputId": "2d4465f4-4f80-4cf2-8b42-30f24224213e"
      },
      "source": [
        "grade = float(input(\"Enter grade:  \"))\n",
        "\n",
        "if grade >= 75:\n",
        "  print (\"PASSED\")\n",
        "elif 74 <= grade <= 75: \n",
        "  print (\"REMEDIAL\") \n",
        "else:\n",
        "  print (\"FAILED\")"
      ],
      "execution_count": 49,
      "outputs": [
        {
          "output_type": "stream",
          "name": "stdout",
          "text": [
            "Enter grade:  74.0002\n",
            "FAILED\n"
          ]
        }
      ]
    }
  ]
}