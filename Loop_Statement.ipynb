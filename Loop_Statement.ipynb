{
  "nbformat": 4,
  "nbformat_minor": 0,
  "metadata": {
    "colab": {
      "name": "Loop Statement.ipynb",
      "provenance": [],
      "authorship_tag": "ABX9TyO5E8cWtECIzET4jaRdewmH",
      "include_colab_link": true
    },
    "kernelspec": {
      "name": "python3",
      "display_name": "Python 3"
    },
    "language_info": {
      "name": "python"
    }
  },
  "cells": [
    {
      "cell_type": "markdown",
      "metadata": {
        "id": "view-in-github",
        "colab_type": "text"
      },
      "source": [
        "<a href=\"https://colab.research.google.com/github/cocolleen/CPEN-21A-CPE1-2/blob/main/Loop_Statement.ipynb\" target=\"_parent\"><img src=\"https://colab.research.google.com/assets/colab-badge.svg\" alt=\"Open In Colab\"/></a>"
      ]
    },
    {
      "cell_type": "markdown",
      "source": [
        "##For Loop\n",
        "\n"
      ],
      "metadata": {
        "id": "2H7abksyKMHv"
      }
    },
    {
      "cell_type": "code",
      "source": [
        "week = [\"Sunday\", \"Monday\", \"Tuesday\", \"Wednesday\", \"Thursday\",\"Friday\", \"Saturday\"]\n",
        "\n",
        "for x in week:\n",
        "  print (x)"
      ],
      "metadata": {
        "colab": {
          "base_uri": "https://localhost:8080/"
        },
        "id": "bi44kBAAK_Tg",
        "outputId": "4d21df25-f84f-4aa3-f74c-f518eb4d138d"
      },
      "execution_count": 3,
      "outputs": [
        {
          "output_type": "stream",
          "name": "stdout",
          "text": [
            "Sunday\n",
            "Monday\n",
            "Tuesday\n",
            "Wednesday\n",
            "Thursday\n",
            "Friday\n",
            "Saturday\n"
          ]
        }
      ]
    },
    {
      "cell_type": "markdown",
      "source": [
        "#The Break Statement"
      ],
      "metadata": {
        "id": "hUzgEslELQFa"
      }
    },
    {
      "cell_type": "code",
      "source": [
        "\n",
        "for x in week:\n",
        "  print (x)\n",
        "  if x == \"Thursday\":\n",
        "    break"
      ],
      "metadata": {
        "colab": {
          "base_uri": "https://localhost:8080/"
        },
        "id": "qhoFijqHLA-D",
        "outputId": "69855c11-496b-4bc4-9fb4-eda72a004a67"
      },
      "execution_count": 6,
      "outputs": [
        {
          "output_type": "stream",
          "name": "stdout",
          "text": [
            "Sunday\n",
            "Monday\n",
            "Tuesday\n",
            "Wednesday\n",
            "Thursday\n"
          ]
        }
      ]
    },
    {
      "cell_type": "code",
      "source": [
        "for x in week:\n",
        "  if x == \"Thursday\":\n",
        "    break\n",
        "  print (x)"
      ],
      "metadata": {
        "colab": {
          "base_uri": "https://localhost:8080/"
        },
        "id": "yFofa37wLzLF",
        "outputId": "37d2f10a-4431-409a-d3d8-34a1a466921e"
      },
      "execution_count": 9,
      "outputs": [
        {
          "output_type": "stream",
          "name": "stdout",
          "text": [
            "Sunday\n",
            "Monday\n",
            "Tuesday\n",
            "Wednesday\n"
          ]
        }
      ]
    },
    {
      "cell_type": "markdown",
      "source": [
        "#Looping through string"
      ],
      "metadata": {
        "id": "TC0TCuYuMV5v"
      }
    },
    {
      "cell_type": "code",
      "source": [
        "for x in \"Programmming with python\":\n",
        "  print (x)"
      ],
      "metadata": {
        "colab": {
          "base_uri": "https://localhost:8080/"
        },
        "id": "eYG1KlXSMbVL",
        "outputId": "4f0af717-d3ed-457a-ec37-08084c723ff9"
      },
      "execution_count": 12,
      "outputs": [
        {
          "output_type": "stream",
          "name": "stdout",
          "text": [
            "P\n",
            "r\n",
            "o\n",
            "g\n",
            "r\n",
            "a\n",
            "m\n",
            "m\n",
            "m\n",
            "i\n",
            "n\n",
            "g\n",
            " \n",
            "w\n",
            "i\n",
            "t\n",
            "h\n",
            " \n",
            "p\n",
            "y\n",
            "t\n",
            "h\n",
            "o\n",
            "n\n"
          ]
        }
      ]
    },
    {
      "cell_type": "markdown",
      "source": [
        "#The range function"
      ],
      "metadata": {
        "id": "YraCu3R8Msz4"
      }
    },
    {
      "cell_type": "code",
      "source": [
        " for x in range(10):\n",
        "   print (x)"
      ],
      "metadata": {
        "colab": {
          "base_uri": "https://localhost:8080/"
        },
        "id": "Gr2MDjfyMpEk",
        "outputId": "962bbda0-d788-403f-990d-e9bc10b487ad"
      },
      "execution_count": 13,
      "outputs": [
        {
          "output_type": "stream",
          "name": "stdout",
          "text": [
            "0\n",
            "1\n",
            "2\n",
            "3\n",
            "4\n",
            "5\n",
            "6\n",
            "7\n",
            "8\n",
            "9\n"
          ]
        }
      ]
    },
    {
      "cell_type": "markdown",
      "source": [
        "#Nested Loops"
      ],
      "metadata": {
        "id": "E7m1kqfBN3xi"
      }
    },
    {
      "cell_type": "code",
      "source": [
        "adjective = [\"red\", \"big\", \"tasty\"]\n",
        "fruits = [\"apple\",\"banana\", \"cherry\"]\n",
        "\n",
        "for x in adjective:\n",
        "  for y in fruits:\n",
        "    print (x, y)"
      ],
      "metadata": {
        "colab": {
          "base_uri": "https://localhost:8080/"
        },
        "id": "jMz-d5zqNILT",
        "outputId": "4188e46d-b9c1-41ff-f51b-6036429d8f70"
      },
      "execution_count": 14,
      "outputs": [
        {
          "output_type": "stream",
          "name": "stdout",
          "text": [
            "red apple\n",
            "red banana\n",
            "red cherry\n",
            "big apple\n",
            "big banana\n",
            "big cherry\n",
            "tasty apple\n",
            "tasty banana\n",
            "tasty cherry\n"
          ]
        }
      ]
    },
    {
      "cell_type": "markdown",
      "source": [
        "##While loop"
      ],
      "metadata": {
        "id": "9NPYAGFNOUmU"
      }
    },
    {
      "cell_type": "code",
      "source": [
        "i = 10\n",
        "while i > 6:\n",
        "  print(i)\n",
        "  i -= 1 #Assignment operator for subtraction i = 1 - i"
      ],
      "metadata": {
        "colab": {
          "base_uri": "https://localhost:8080/"
        },
        "id": "BLlX7j0_OXZM",
        "outputId": "ad6c2494-2846-4d8b-9263-bfed3b09e2ab"
      },
      "execution_count": 17,
      "outputs": [
        {
          "output_type": "stream",
          "name": "stdout",
          "text": [
            "10\n",
            "9\n",
            "8\n",
            "7\n"
          ]
        }
      ]
    },
    {
      "cell_type": "markdown",
      "source": [
        "#The break statement"
      ],
      "metadata": {
        "id": "ZOmP6GtUPgHV"
      }
    },
    {
      "cell_type": "code",
      "source": [
        "i = 10\n",
        "while i > 6:\n",
        "  print (i)\n",
        "  if i == 8: \n",
        "    break\n",
        "  i-=1"
      ],
      "metadata": {
        "colab": {
          "base_uri": "https://localhost:8080/"
        },
        "id": "DvgLAgF_PEVS",
        "outputId": "8c303f51-606e-489b-8f63-258e0e90f476"
      },
      "execution_count": 18,
      "outputs": [
        {
          "output_type": "stream",
          "name": "stdout",
          "text": [
            "10\n",
            "9\n",
            "8\n"
          ]
        }
      ]
    },
    {
      "cell_type": "markdown",
      "source": [
        "#The continue statement"
      ],
      "metadata": {
        "id": "A7mgEES3QOnf"
      }
    },
    {
      "cell_type": "code",
      "source": [
        "i = 10\n",
        "while i>6:\n",
        "  i = i - 1\n",
        "  if i == 8:\n",
        "    continue\n",
        "  print (i)\n"
      ],
      "metadata": {
        "colab": {
          "base_uri": "https://localhost:8080/"
        },
        "id": "Vry1h1dTQTwL",
        "outputId": "925e7c9e-4ae8-47bf-8c33-25005f877bf8"
      },
      "execution_count": 20,
      "outputs": [
        {
          "output_type": "stream",
          "name": "stdout",
          "text": [
            "9\n",
            "7\n",
            "6\n"
          ]
        }
      ]
    },
    {
      "cell_type": "markdown",
      "source": [
        "#The else statement"
      ],
      "metadata": {
        "id": "Qwuy4pz4RaQC"
      }
    },
    {
      "cell_type": "code",
      "source": [
        "i = 10\n",
        "while i>6:\n",
        "  i = i - 1\n",
        "  print (i)\n",
        "else:\n",
        "  print (\"i is no longer greater than 6\")"
      ],
      "metadata": {
        "colab": {
          "base_uri": "https://localhost:8080/"
        },
        "id": "uViHW4AuRXuz",
        "outputId": "1e7135df-e9b4-4160-b715-8ede1d2aa92e"
      },
      "execution_count": 21,
      "outputs": [
        {
          "output_type": "stream",
          "name": "stdout",
          "text": [
            "9\n",
            "8\n",
            "7\n",
            "6\n",
            "i is no longer greater than 6\n"
          ]
        }
      ]
    },
    {
      "cell_type": "markdown",
      "source": [
        "###Aplication 1"
      ],
      "metadata": {
        "id": "6bR6VoeaR_2C"
      }
    },
    {
      "cell_type": "code",
      "source": [
        "#WHILE LOOP\n",
        "x = 0\n",
        "while x <= 10:\n",
        "  print (\"Value\", x)\n",
        "  x+=1\n"
      ],
      "metadata": {
        "colab": {
          "base_uri": "https://localhost:8080/"
        },
        "id": "KShfsqv4R_AS",
        "outputId": "5c7e94b8-a1ec-4516-bf1a-ab091cffaf8b"
      },
      "execution_count": 36,
      "outputs": [
        {
          "output_type": "stream",
          "name": "stdout",
          "text": [
            "Value 0\n",
            "Value 1\n",
            "Value 2\n",
            "Value 3\n",
            "Value 4\n",
            "Value 5\n",
            "Value 6\n",
            "Value 7\n",
            "Value 8\n",
            "Value 9\n",
            "Value 10\n"
          ]
        }
      ]
    },
    {
      "cell_type": "code",
      "source": [
        "#FOR LOOPS\n",
        "value = [\"Value 1\", \"Value 2\", \"Value 3\", \"Value 4\", \"Value 5\",\"Value 6\", \"Value 7\", \"Value 8\", \"Value 9\", \"Value 10\"]\n",
        "\n",
        "for x in value:\n",
        "  print (x)"
      ],
      "metadata": {
        "colab": {
          "base_uri": "https://localhost:8080/"
        },
        "id": "oVXIBbYsUnO4",
        "outputId": "cbf7ed8f-2737-41fe-99e5-b4ba4fc18081"
      },
      "execution_count": 37,
      "outputs": [
        {
          "output_type": "stream",
          "name": "stdout",
          "text": [
            "Value 1\n",
            "Value 2\n",
            "Value 3\n",
            "Value 4\n",
            "Value 5\n",
            "Value 6\n",
            "Value 7\n",
            "Value 8\n",
            "Value 9\n",
            "Value 10\n"
          ]
        }
      ]
    },
    {
      "cell_type": "markdown",
      "source": [
        "###Application 2 "
      ],
      "metadata": {
        "id": "fNpNBxG7SWEX"
      }
    },
    {
      "cell_type": "code",
      "source": [
        "i = 20\n",
        "while i>4:\n",
        "  i -= 1\n",
        "  print (i)\n",
        "\n",
        "else:\n",
        "  print ('i is no longer greater than 3')"
      ],
      "metadata": {
        "colab": {
          "base_uri": "https://localhost:8080/"
        },
        "id": "Nutg31bnSY3V",
        "outputId": "90dec8da-1880-4a2a-d2ab-8c31b09ffb36"
      },
      "execution_count": 28,
      "outputs": [
        {
          "output_type": "stream",
          "name": "stdout",
          "text": [
            "19\n",
            "18\n",
            "17\n",
            "16\n",
            "15\n",
            "14\n",
            "13\n",
            "12\n",
            "11\n",
            "10\n",
            "9\n",
            "8\n",
            "7\n",
            "6\n",
            "5\n",
            "4\n",
            "i is no longer greater than 3\n"
          ]
        }
      ]
    }
  ]
}