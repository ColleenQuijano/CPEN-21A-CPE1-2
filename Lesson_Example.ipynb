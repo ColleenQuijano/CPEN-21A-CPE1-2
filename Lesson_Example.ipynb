{
  "nbformat": 4,
  "nbformat_minor": 0,
  "metadata": {
    "colab": {
      "name": "Lesson_Example.ipynb",
      "provenance": [],
      "authorship_tag": "ABX9TyOpexEQS3FxvUn0KTpZgNz2",
      "include_colab_link": true
    },
    "kernelspec": {
      "name": "python3",
      "display_name": "Python 3"
    },
    "language_info": {
      "name": "python"
    }
  },
  "cells": [
    {
      "cell_type": "markdown",
      "metadata": {
        "id": "view-in-github",
        "colab_type": "text"
      },
      "source": [
        "<a href=\"https://colab.research.google.com/github/cocolleen/CPEN-21A-CPE1-2/blob/main/Lesson_Example.ipynb\" target=\"_parent\"><img src=\"https://colab.research.google.com/assets/colab-badge.svg\" alt=\"Open In Colab\"/></a>"
      ]
    },
    {
      "cell_type": "markdown",
      "metadata": {
        "id": "f_HY-oyd3znl"
      },
      "source": [
        "Introduction to Python"
      ]
    },
    {
      "cell_type": "code",
      "metadata": {
        "colab": {
          "base_uri": "https://localhost:8080/"
        },
        "id": "leCt9qv53_P2",
        "outputId": "4b1fb5b4-7643-44d9-8420-1c015dbcc24d"
      },
      "source": [
        "#Python Indention\n",
        "if 5>2:\n",
        "  print(\"five is greater than two\")\n"
      ],
      "execution_count": 2,
      "outputs": [
        {
          "output_type": "stream",
          "name": "stdout",
          "text": [
            "five is greater than two\n"
          ]
        }
      ]
    },
    {
      "cell_type": "code",
      "metadata": {
        "colab": {
          "base_uri": "https://localhost:8080/"
        },
        "id": "B0OjAtIb56O8",
        "outputId": "b014bf34-48a7-4abb-e2af-b4fa502a6413"
      },
      "source": [
        "x = 1 #this is a single variavle with single valye\n",
        "x, y = 1,2 #these are twp variables with two different values\n",
        "y, y, z = 1, 4, 3 \n",
        "print(x)\n",
        "print(y)\n",
        "print(z)"
      ],
      "execution_count": 5,
      "outputs": [
        {
          "output_type": "stream",
          "name": "stdout",
          "text": [
            "1\n",
            "4\n",
            "3\n"
          ]
        }
      ]
    },
    {
      "cell_type": "code",
      "metadata": {
        "colab": {
          "base_uri": "https://localhost:8080/"
        },
        "id": "iZ-yRDeD6-X9",
        "outputId": "1a36be51-3d65-4af0-d39c-cf5092071ee8"
      },
      "source": [
        "#Casting\n",
        "b = int(4)\n",
        "b\n",
        "c = float(4)\n",
        "c\n"
      ],
      "execution_count": 7,
      "outputs": [
        {
          "output_type": "execute_result",
          "data": {
            "text/plain": [
              "4.0"
            ]
          },
          "metadata": {},
          "execution_count": 7
        }
      ]
    },
    {
      "cell_type": "code",
      "metadata": {
        "colab": {
          "base_uri": "https://localhost:8080/"
        },
        "id": "Qw5ZdMgf7RTB",
        "outputId": "25aeb51d-cb4e-410f-e22f-0085babd82e4"
      },
      "source": [
        "x = 5\n",
        "y = \"john\" #this is a type of string\n",
        "h = \"ana\"\n",
        "H = \"COL\"\n",
        "#H is not equal to h\n",
        "\n",
        "\n",
        "print(type(x))\n",
        "print(type(y))\n",
        "print(h)\n",
        "print(H)"
      ],
      "execution_count": 10,
      "outputs": [
        {
          "output_type": "stream",
          "name": "stdout",
          "text": [
            "<class 'int'>\n",
            "<class 'str'>\n",
            "ana\n",
            "COL\n"
          ]
        }
      ]
    },
    {
      "cell_type": "code",
      "metadata": {
        "colab": {
          "base_uri": "https://localhost:8080/"
        },
        "id": "Z5hxMSFb8yyR",
        "outputId": "72c6a99b-0001-45d8-e955-fd89ac38a781"
      },
      "source": [
        "x = y = z = \"four\"\n",
        "print (x)\n",
        "print (y)\n",
        "print (z)\n"
      ],
      "execution_count": 11,
      "outputs": [
        {
          "output_type": "stream",
          "name": "stdout",
          "text": [
            "four\n",
            "four\n",
            "four\n"
          ]
        }
      ]
    },
    {
      "cell_type": "code",
      "metadata": {
        "colab": {
          "base_uri": "https://localhost:8080/"
        },
        "id": "V2ZBFKDD8_3i",
        "outputId": "2ee477bb-7e21-4acc-964b-21e3beca16bf"
      },
      "source": [
        "x = \"enjoying\"\n",
        "print(\"Python Programming is\"  \" \" + x)"
      ],
      "execution_count": 12,
      "outputs": [
        {
          "output_type": "stream",
          "name": "stdout",
          "text": [
            "Python Programming is enjoying\n"
          ]
        }
      ]
    },
    {
      "cell_type": "code",
      "metadata": {
        "colab": {
          "base_uri": "https://localhost:8080/"
        },
        "id": "33Lw7t349UaC",
        "outputId": "156ced89-4e4d-4e32-d7bb-9de9417e4735"
      },
      "source": [
        "x= 11\n",
        "y = 12\n",
        "print (x+y)"
      ],
      "execution_count": 13,
      "outputs": [
        {
          "output_type": "stream",
          "name": "stdout",
          "text": [
            "23\n"
          ]
        }
      ]
    },
    {
      "cell_type": "code",
      "metadata": {
        "colab": {
          "base_uri": "https://localhost:8080/"
        },
        "id": "cHwqy57X9jg_",
        "outputId": "5cb1e06c-1c9a-4a0f-cc3f-291458a921a3"
      },
      "source": [
        "x+=3  #this is the same as the x = x+3\n",
        "print(x)"
      ],
      "execution_count": 14,
      "outputs": [
        {
          "output_type": "stream",
          "name": "stdout",
          "text": [
            "14\n"
          ]
        }
      ]
    },
    {
      "cell_type": "code",
      "metadata": {
        "colab": {
          "base_uri": "https://localhost:8080/"
        },
        "id": "8_t0bAAL-U_u",
        "outputId": "185ed337-aea7-4394-8c03-f390c8694ad5"
      },
      "source": [
        "y+=5\n",
        "print(y)"
      ],
      "execution_count": 18,
      "outputs": [
        {
          "output_type": "stream",
          "name": "stdout",
          "text": [
            "17\n"
          ]
        }
      ]
    },
    {
      "cell_type": "code",
      "metadata": {
        "colab": {
          "base_uri": "https://localhost:8080/"
        },
        "id": "MbQcj0yT-OTm",
        "outputId": "7329445d-dfef-433c-fa8e-f1938a7cec21"
      },
      "source": [
        "print(x>y)"
      ],
      "execution_count": 19,
      "outputs": [
        {
          "output_type": "stream",
          "name": "stdout",
          "text": [
            "False\n"
          ]
        }
      ]
    }
  ]
}