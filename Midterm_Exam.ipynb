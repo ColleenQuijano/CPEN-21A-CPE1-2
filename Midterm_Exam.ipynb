{
  "nbformat": 4,
  "nbformat_minor": 0,
  "metadata": {
    "colab": {
      "name": "Midterm Exam.ipynb",
      "provenance": [],
      "authorship_tag": "ABX9TyNS7E7hr/XNRYl3meCV7Dmf",
      "include_colab_link": true
    },
    "kernelspec": {
      "name": "python3",
      "display_name": "Python 3"
    },
    "language_info": {
      "name": "python"
    }
  },
  "cells": [
    {
      "cell_type": "markdown",
      "metadata": {
        "id": "view-in-github",
        "colab_type": "text"
      },
      "source": [
        "<a href=\"https://colab.research.google.com/github/cocolleen/CPEN-21A-CPE1-2/blob/main/Midterm_Exam.ipynb\" target=\"_parent\"><img src=\"https://colab.research.google.com/assets/colab-badge.svg\" alt=\"Open In Colab\"/></a>"
      ]
    },
    {
      "cell_type": "markdown",
      "metadata": {
        "id": "J3QLI_Y1BhV_"
      },
      "source": [
        "#Midterm Exam"
      ]
    },
    {
      "cell_type": "code",
      "metadata": {
        "colab": {
          "base_uri": "https://localhost:8080/"
        },
        "id": "iIhoePSHBqK4",
        "outputId": "f60964f8-5356-4ca5-a921-4d6fdc30dd1d"
      },
      "source": [
        "#Problem Statement 1\n",
        "\n",
        "Name = \"Colleen M. Quijano\"\n",
        "StudentNumber = \"20212070\"\n",
        "Age = \"18\"\n",
        "Birthday = \"November 16, 2002\"\n",
        "Address = \"410 De Guzman St. Cardidad, Cavite City\"\n",
        "Course = \"Bachelor of SCience in Computer Engineering\"\n",
        "GWA =\"93\"\n",
        "\n",
        "print (\"Hi! My name is \" + Name + \" and my student number is \" + StudentNumber + \".\")\n",
        "print (Age + \" years of age and living at \" + Address + '.' )\n",
        "print (\"Taking the course \" + Course + \"and had a GWA of \" + GWA + \" during my last sem in grade 12.\")\n"
      ],
      "execution_count": 19,
      "outputs": [
        {
          "output_type": "stream",
          "name": "stdout",
          "text": [
            "Hi! My name is Colleen M. Quijano and my student number is 20212070.\n",
            "18 years of age and living at 410 De Guzman St. Cardidad, Cavite City.\n",
            "Taking the course Bachelor of SCience in Computer Engineeringand had a GWA of 93during my last sem in grade 12.\n"
          ]
        }
      ]
    },
    {
      "cell_type": "code",
      "metadata": {
        "colab": {
          "base_uri": "https://localhost:8080/"
        },
        "id": "66bEt9SME72b",
        "outputId": "3db516f6-4313-424a-bb0f-a78da2d995bd"
      },
      "source": [
        "#Problem Statement 2\n",
        "\n",
        "n = 4\n",
        "answ = \"Y\"\n",
        "\n",
        "\n",
        "print (bool (2<n) and (n>6))\n",
        "print (bool (2<n) or (n>6))\n",
        "print (bool (not (2<n)) or (n==6))\n",
        "print (bool (not(n<6)))\n",
        "print (bool (answ==\"Y\") or (answ == \"y\"))\n",
        "print (bool (answ==\"Y\") and (answ == \"y\"))\n",
        "print (bool (not (answ == 'y')))\n",
        "print (bool ((2<n) and (n == 5 + 1)) or (answ == \"No\"))\n",
        "print (bool ((n==2) and (n==7)) or (answ == \"Y\"))\n",
        "print (bool (n==2) and ((n==7) or (answ == \"Y\")))\n",
        "\n"
      ],
      "execution_count": 62,
      "outputs": [
        {
          "output_type": "stream",
          "name": "stdout",
          "text": [
            "False\n",
            "True\n",
            "False\n",
            "False\n",
            "True\n",
            "False\n",
            "True\n",
            "False\n",
            "True\n",
            "False\n"
          ]
        }
      ]
    },
    {
      "cell_type": "code",
      "metadata": {
        "colab": {
          "base_uri": "https://localhost:8080/"
        },
        "id": "FuWrHEHTF04B",
        "outputId": "e95b95bb-f75a-41df-bf98-6ba009722f24"
      },
      "source": [
        "#{roblem Statment 3}\n",
        "\n",
        "x = 2\n",
        "y = -3\n",
        "w = 7\n",
        "z = -10\n",
        "\n",
        "print (x/y)\n",
        "print (w/y/x)\n",
        "print (z/y%x)\n",
        "print (x%-y*w)\n",
        "print (x%y)\n",
        "print (z%w-y/x*5+5)\n",
        "print (9-x%(2+y))\n",
        "print (z//w)\n",
        "print ((2+y)**2)\n",
        "print (w/x*2)\n"
      ],
      "execution_count": 24,
      "outputs": [
        {
          "output_type": "stream",
          "name": "stdout",
          "text": [
            "-0.6666666666666666\n",
            "-1.1666666666666667\n",
            "1.3333333333333335\n",
            "14\n",
            "-1\n",
            "16.5\n",
            "9\n",
            "-2\n",
            "1\n",
            "7.0\n"
          ]
        }
      ]
    }
  ]
}