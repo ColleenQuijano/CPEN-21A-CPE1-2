{
  "nbformat": 4,
  "nbformat_minor": 0,
  "metadata": {
    "colab": {
      "name": "Final Exam.ipynb",
      "provenance": [],
      "authorship_tag": "ABX9TyOw5yhkiZE8i9lsNZLiJ9UJ",
      "include_colab_link": true
    },
    "kernelspec": {
      "name": "python3",
      "display_name": "Python 3"
    },
    "language_info": {
      "name": "python"
    }
  },
  "cells": [
    {
      "cell_type": "markdown",
      "metadata": {
        "id": "view-in-github",
        "colab_type": "text"
      },
      "source": [
        "<a href=\"https://colab.research.google.com/github/cocolleen/CPEN-21A-CPE1-2/blob/main/Final_Exam.ipynb\" target=\"_parent\"><img src=\"https://colab.research.google.com/assets/colab-badge.svg\" alt=\"Open In Colab\"/></a>"
      ]
    },
    {
      "cell_type": "markdown",
      "source": [
        "#Final Exam"
      ],
      "metadata": {
        "id": "yTlrVHjhJW58"
      }
    },
    {
      "cell_type": "markdown",
      "source": [
        "###Problem Statement 1"
      ],
      "metadata": {
        "id": "mQSluya2Jbjt"
      }
    },
    {
      "cell_type": "code",
      "source": [
        "number = [-16, 3, -23, -11, 0, 1, 2, -83, -8, -5]\n",
        "sum = [-16 + 3 + -23 + -11 + 0 + 1 + 2 + -83 + -8 + -5]\n",
        "\n",
        "for n in sum:\n",
        "  print (\"The sum of given numbers that are listed above which are less than 5 are \", n, \".\")"
      ],
      "metadata": {
        "colab": {
          "base_uri": "https://localhost:8080/"
        },
        "id": "-oW5Z0eRs2YP",
        "outputId": "5e1297be-4576-48a7-d01a-da643e48c1fc"
      },
      "execution_count": null,
      "outputs": [
        {
          "output_type": "stream",
          "name": "stdout",
          "text": [
            "The sum of given numbers that are listed above which are less than 5 are  -140 .\n"
          ]
        }
      ]
    },
    {
      "cell_type": "markdown",
      "source": [
        "###Problem Statement 2"
      ],
      "metadata": {
        "id": "wnfGi3flJsQQ"
      }
    },
    {
      "cell_type": "code",
      "source": [
        "counter = 0\n",
        "dig =[]\n",
        "\n",
        "while True:\n",
        "  if counter == 5:\n",
        "    sum = dig [0] + dig [-1]\n",
        "    print (\"The sum of first and last number is: \", round (sum, 3))\n",
        "    break\n",
        "  \n",
        "  else:\n",
        "    c = float(input(\"Input a number: \"))\n",
        "    dig.append(c)\n",
        "    counter = counter + 1"
      ],
      "metadata": {
        "colab": {
          "base_uri": "https://localhost:8080/"
        },
        "id": "dad50er3JwNz",
        "outputId": "28669ef8-9e62-4f09-98f8-bf5274b013f0"
      },
      "execution_count": null,
      "outputs": [
        {
          "output_type": "stream",
          "name": "stdout",
          "text": [
            "Input a number: 3\n",
            "Input a number: 2\n",
            "Input a number: 1\n",
            "Input a number: 1\n",
            "Input a number: 20\n",
            "The sum of first and last number is:  23.0\n"
          ]
        }
      ]
    },
    {
      "cell_type": "markdown",
      "source": [
        "###Problem Statement 3"
      ],
      "metadata": {
        "id": "NL8LOPJyJwyJ"
      }
    },
    {
      "cell_type": "code",
      "source": [
        "CA = float(input(\"Enter Calculus Grade: \"))\n",
        "PR = float (input(\"Enter Programming Grade: \"))\n",
        "PH = float(input(\"Enter Physics Grade:  \"))\n",
        "\n",
        "sum = [CA + PR + PH]\n",
        "a = 3\n",
        "\n",
        "\n",
        "#NOTE: The range in grade B was changed to 80-89 from 90-89 as the range in grade B that was originally stated in the word file. \\\n",
        "\n",
        "\n",
        "for f in (sum):\n",
        "  sum = f / 3\n",
        "  if sum >= 90:\n",
        "    print (\"Your grade is A\")\n",
        "  else:\n",
        "    if sum >= 80:\n",
        "      print (\"Your grade is B\")\n",
        "    else:\n",
        "      if sum >= 70:\n",
        "        print (\"Your grade is C\")\n",
        "      else:\n",
        "        if sum >= 60:\n",
        "          print (\"Your grade is D\")\n",
        "        else:\n",
        "          print (\"Your grade is F\")\n",
        "\n",
        "print(\"Total Average is: \", round(sum, 5))\n",
        "\n"
      ],
      "metadata": {
        "colab": {
          "base_uri": "https://localhost:8080/"
        },
        "id": "EWJVg0e9eTOT",
        "outputId": "35f9424f-8bfb-4c1a-cd11-a62f816e05bc"
      },
      "execution_count": null,
      "outputs": [
        {
          "output_type": "stream",
          "name": "stdout",
          "text": [
            "Enter Calculus Grade: 92\n",
            "Enter Programming Grade: 91\n",
            "Enter Physics Grade:  95\n",
            "Your grade is A\n",
            "Total Average is:  92.66667\n"
          ]
        }
      ]
    }
  ]
}