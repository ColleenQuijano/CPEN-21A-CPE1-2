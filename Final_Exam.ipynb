{
  "nbformat": 4,
  "nbformat_minor": 0,
  "metadata": {
    "colab": {
      "name": "Final Exam.ipynb",
      "provenance": [],
      "authorship_tag": "ABX9TyPf70IqBaOvVxE4CJfVLs5n",
      "include_colab_link": true
    },
    "kernelspec": {
      "name": "python3",
      "display_name": "Python 3"
    },
    "language_info": {
      "name": "python"
    }
  },
  "cells": [
    {
      "cell_type": "markdown",
      "metadata": {
        "id": "view-in-github",
        "colab_type": "text"
      },
      "source": [
        "<a href=\"https://colab.research.google.com/github/cocolleen/CPEN-21A-CPE1-2/blob/main/Final_Exam.ipynb\" target=\"_parent\"><img src=\"https://colab.research.google.com/assets/colab-badge.svg\" alt=\"Open In Colab\"/></a>"
      ]
    },
    {
      "cell_type": "markdown",
      "source": [
        "#Final Exam"
      ],
      "metadata": {
        "id": "yTlrVHjhJW58"
      }
    },
    {
      "cell_type": "markdown",
      "source": [
        "###Problem Statement 1"
      ],
      "metadata": {
        "id": "mQSluya2Jbjt"
      }
    },
    {
      "cell_type": "code",
      "source": [
        "number = [-16, 3, -23, -11, 0, 1, 2, -83, -8, -5]\n",
        "sum = [-16 + 3 + -23 + -11 + 0 + 1 + 2 + -83 + -8 + -5]\n",
        "\n",
        "for n in sum:\n",
        "  print (\"The sum of given numbers that are listed above which are less than 5 are \", n, \".\")"
      ],
      "metadata": {
        "colab": {
          "base_uri": "https://localhost:8080/"
        },
        "id": "-oW5Z0eRs2YP",
        "outputId": "5e1297be-4576-48a7-d01a-da643e48c1fc"
      },
      "execution_count": null,
      "outputs": [
        {
          "output_type": "stream",
          "name": "stdout",
          "text": [
            "The sum of given numbers that are listed above which are less than 5 are  -140 .\n"
          ]
        }
      ]
    },
    {
      "cell_type": "markdown",
      "source": [
        "###Problem Statement 2"
      ],
      "metadata": {
        "id": "wnfGi3flJsQQ"
      }
    },
    {
      "cell_type": "code",
      "source": [
        "n = 1\n",
        "digits =[]\n",
        "num = 0\n",
        "digit1 = 0\n",
        "digit5 = 0\n",
        "\n",
        "while n <= 5:\n",
        "  num = int(input(\"Input a value:  \"))\n",
        "  digits.append(num)\n",
        "  if n == 1:\n",
        "    digit1 = num\n",
        "  if n == 5:\n",
        "    digit5 = num\n",
        "  n+=1\n",
        "\n",
        "\n",
        "print('\\n', \"These are the lists of digits: \", digits)\n",
        "sum = digit1 + digit5\n",
        "print('\\n', \"The sum of the first and last digit is \", sum, \".\")\n",
        "  \n"
      ],
      "metadata": {
        "colab": {
          "base_uri": "https://localhost:8080/"
        },
        "id": "dad50er3JwNz",
        "outputId": "3eef982f-2141-4648-a35c-b7491d9fa37a"
      },
      "execution_count": 4,
      "outputs": [
        {
          "output_type": "stream",
          "name": "stdout",
          "text": [
            "Input a value:  1\n",
            "Input a value:  299\n",
            "Input a value:  399\n",
            "Input a value:  785\n",
            "Input a value:  34\n",
            "\n",
            " These are the lists of digits:  [1, 299, 399, 785, 34]\n",
            "\n",
            " The sum of the first and last digit is  35 .\n"
          ]
        }
      ]
    },
    {
      "cell_type": "markdown",
      "source": [
        "###Problem Statement 3"
      ],
      "metadata": {
        "id": "NL8LOPJyJwyJ"
      }
    },
    {
      "cell_type": "code",
      "source": [
        "\n",
        "grade = float(input(\"Enter Grade: \"))\n",
        "\n",
        "if grade >= 90:\n",
        "  print (\"Your grade remark is A.\")\n",
        "else:\n",
        "  if grade >= 80:\n",
        "    print (\"Your grade remark is B.\")\n",
        "  else:\n",
        "    if grade >= 70:\n",
        "      print (\"Your grade remark is C.\")\n",
        "    else:\n",
        "      if grade >= 60:\n",
        "        print (\"Your grade remark is D.\")\n",
        "      else:\n",
        "        print (\"Your grade is remark F.\")\n",
        "\n",
        "\n",
        "\n"
      ],
      "metadata": {
        "colab": {
          "base_uri": "https://localhost:8080/"
        },
        "id": "EWJVg0e9eTOT",
        "outputId": "95bbda5f-bc3d-40e6-c72a-fc0d0dbdb22e"
      },
      "execution_count": null,
      "outputs": [
        {
          "output_type": "stream",
          "name": "stdout",
          "text": [
            "Enter Grade: 89.99\n",
            "Your grade remark is B.\n"
          ]
        }
      ]
    }
  ]
}