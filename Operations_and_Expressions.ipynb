{
  "nbformat": 4,
  "nbformat_minor": 0,
  "metadata": {
    "colab": {
      "name": "Operations and Expressions.ipynb",
      "provenance": [],
      "authorship_tag": "ABX9TyNP3X9WRcM9561EHHnY7jUG",
      "include_colab_link": true
    },
    "kernelspec": {
      "display_name": "Python 3",
      "name": "python3"
    },
    "language_info": {
      "name": "python"
    }
  },
  "cells": [
    {
      "cell_type": "markdown",
      "metadata": {
        "id": "view-in-github",
        "colab_type": "text"
      },
      "source": [
        "<a href=\"https://colab.research.google.com/github/cocolleen/CPEN-21A-CPE1-2/blob/main/Operations_and_Expressions.ipynb\" target=\"_parent\"><img src=\"https://colab.research.google.com/assets/colab-badge.svg\" alt=\"Open In Colab\"/></a>"
      ]
    },
    {
      "cell_type": "markdown",
      "metadata": {
        "id": "h4leIZVn0ZIv"
      },
      "source": [
        "#Boolean Operators"
      ]
    },
    {
      "cell_type": "code",
      "metadata": {
        "colab": {
          "base_uri": "https://localhost:8080/"
        },
        "id": "J_Wx7waP1GAO",
        "outputId": "f5180d95-835d-44a8-fbfd-401b1ea74f9b"
      },
      "source": [
        "#Booleaan represent one or two values: True or False\n",
        "\n",
        "print (12>5)\n",
        "print(13==5)\n",
        "print (16<6)"
      ],
      "execution_count": null,
      "outputs": [
        {
          "name": "stdout",
          "output_type": "stream",
          "text": [
            "True\n",
            "False\n",
            "False\n"
          ]
        }
      ]
    },
    {
      "cell_type": "code",
      "metadata": {
        "colab": {
          "base_uri": "https://localhost:8080/"
        },
        "id": "dvbRlcxf0_pS",
        "outputId": "308fd89a-2ca0-477d-e9ef-5d0f2b7c71c4"
      },
      "source": [
        " a = 10\n",
        " b = 9\n",
        "\n",
        "print (a>b)\n",
        "print (a==b)\n",
        "print (a<b)\n",
        "\n",
        "#if didnt start with print only the last will be the most recent\n",
        "a>b\n",
        "b>a\n",
        "a==a"
      ],
      "execution_count": null,
      "outputs": [
        {
          "name": "stdout",
          "output_type": "stream",
          "text": [
            "True\n",
            "False\n",
            "False\n"
          ]
        },
        {
          "data": {
            "text/plain": [
              "True"
            ]
          },
          "execution_count": 7,
          "metadata": {},
          "output_type": "execute_result"
        }
      ]
    },
    {
      "cell_type": "code",
      "metadata": {
        "colab": {
          "base_uri": "https://localhost:8080/"
        },
        "id": "dnZnr9P01j4I",
        "outputId": "1d0af66c-0348-4fa4-c7a8-ea48af98333a"
      },
      "source": [
        "print (bool(\"HELLO\"))\n",
        "print (bool(15))\n",
        "print (bool(True))"
      ],
      "execution_count": null,
      "outputs": [
        {
          "name": "stdout",
          "output_type": "stream",
          "text": [
            "True\n",
            "True\n",
            "True\n"
          ]
        }
      ]
    },
    {
      "cell_type": "code",
      "metadata": {
        "colab": {
          "base_uri": "https://localhost:8080/"
        },
        "id": "xs77GzfL178K",
        "outputId": "773467e6-5e14-495a-9d87-bea19c53f33a"
      },
      "source": [
        "#allows you to evaluate and give False in return\n",
        "\n",
        "print (bool(False))\n",
        "print (bool(None))\n",
        "print (bool(0))\n",
        "print (bool(\" \"))"
      ],
      "execution_count": null,
      "outputs": [
        {
          "name": "stdout",
          "output_type": "stream",
          "text": [
            "False\n",
            "False\n",
            "False\n",
            "True\n"
          ]
        }
      ]
    },
    {
      "cell_type": "code",
      "metadata": {
        "colab": {
          "base_uri": "https://localhost:8080/"
        },
        "id": "-zGq0iXJ2f24",
        "outputId": "10b8bf0b-d0df-4c04-e06b-6193be7bd7a9"
      },
      "source": [
        "#Functions can Return a Boolean\n",
        "\n",
        "def myfunction(): return True\n",
        "print(myfunction())"
      ],
      "execution_count": null,
      "outputs": [
        {
          "name": "stdout",
          "output_type": "stream",
          "text": [
            "True\n"
          ]
        }
      ]
    },
    {
      "cell_type": "code",
      "metadata": {
        "colab": {
          "base_uri": "https://localhost:8080/"
        },
        "id": "yY9x2gEU3IhU",
        "outputId": "77b172a3-a54d-4551-d553-6ed8f1acdbcf"
      },
      "source": [
        "def myfunction(): return True\n",
        "print(myfunction())\n",
        "\n",
        "if myfunction():\n",
        "  print (\"Yes\")   #note that print should always be intented so that it won't experience error\n",
        "else:\n",
        "  print (\"No\")"
      ],
      "execution_count": null,
      "outputs": [
        {
          "name": "stdout",
          "output_type": "stream",
          "text": [
            "True\n",
            "Yes\n"
          ]
        }
      ]
    },
    {
      "cell_type": "code",
      "metadata": {
        "colab": {
          "base_uri": "https://localhost:8080/"
        },
        "id": "p3xB5swk4BgK",
        "outputId": "dc636e7a-9c8e-43ee-f2dc-6a960db070f3"
      },
      "source": [
        "def myfunction(): return False\n",
        "print(myfunction())\n",
        "\n",
        "if myfunction():\n",
        "  print (\"Yes\")   #note that print should always be intented so that it won't experience error\n",
        "else:\n",
        "  print (\"No\")"
      ],
      "execution_count": null,
      "outputs": [
        {
          "name": "stdout",
          "output_type": "stream",
          "text": [
            "False\n",
            "No\n"
          ]
        }
      ]
    },
    {
      "cell_type": "code",
      "metadata": {
        "colab": {
          "background_save": true,
          "base_uri": "https://localhost:8080/"
        },
        "id": "oHwCchhs4Miy",
        "outputId": "fe48eaf5-73c9-4e9a-c76a-4c5706e24386"
      },
      "source": [
        "#TRY\n",
        "\n",
        "a = 6\n",
        "b = 7 \n",
        "\n",
        "print (a==b)\n",
        "print (a!=a)"
      ],
      "execution_count": null,
      "outputs": [
        {
          "name": "stdout",
          "output_type": "stream",
          "text": [
            "False\n",
            "False\n"
          ]
        }
      ]
    },
    {
      "cell_type": "code",
      "metadata": {
        "colab": {
          "base_uri": "https://localhost:8080/"
        },
        "id": "r_2ctfQ-7EQD",
        "outputId": "e77bfe22-38dc-40f0-f104-ba9b8b1e1bed"
      },
      "source": [
        "print (10+5)\n",
        "print (10-5)\n",
        "print (10*5)\n",
        "print (10/5)    #division - quotient\n",
        "print (10%5)    #modulo - division\n",
        "print (10//3)   #floor division\n",
        "print (10**2)   #concatenation"
      ],
      "execution_count": 31,
      "outputs": [
        {
          "output_type": "stream",
          "name": "stdout",
          "text": [
            "15\n",
            "5\n",
            "50\n",
            "2.0\n",
            "0\n",
            "3\n",
            "100\n"
          ]
        }
      ]
    },
    {
      "cell_type": "code",
      "metadata": {
        "colab": {
          "base_uri": "https://localhost:8080/"
        },
        "id": "VISPrUet71By",
        "outputId": "c4818560-b325-447d-843f-1e502fe385ae"
      },
      "source": [
        "#application in bits\n",
        "\n",
        "a = 60 #0011 1100\n",
        "b = 13 #0000 1101\n",
        "\n",
        "print(a & b)\n",
        "print(a | b)\n",
        "print (a^b)\n",
        "print(a<<2)\n",
        "print (a>>2)"
      ],
      "execution_count": 36,
      "outputs": [
        {
          "output_type": "stream",
          "name": "stdout",
          "text": [
            "12\n",
            "61\n",
            "49\n",
            "240\n",
            "15\n"
          ]
        }
      ]
    },
    {
      "cell_type": "code",
      "metadata": {
        "colab": {
          "base_uri": "https://localhost:8080/"
        },
        "id": "2mMp32Py-mri",
        "outputId": "0c0ddc89-f41b-4227-d1d4-ee4015ab8f85"
      },
      "source": [
        "#python assignment operator\n",
        "\n",
        "x = 6\n",
        "x+=3 #x=x+3\n",
        "print(x)\n",
        "\n",
        "x%=3 #6%3, remainder 0\n",
        "print (x)\n",
        "\n"
      ],
      "execution_count": 37,
      "outputs": [
        {
          "output_type": "stream",
          "name": "stdout",
          "text": [
            "9\n",
            "0\n"
          ]
        }
      ]
    },
    {
      "cell_type": "code",
      "metadata": {
        "colab": {
          "base_uri": "https://localhost:8080/"
        },
        "id": "qgIpZaeV_kJ6",
        "outputId": "5df89c25-cf0a-4458-8b80-010dff12b2cb"
      },
      "source": [
        "a = True\n",
        "b = False\n",
        "\n",
        "print (a and b)\n",
        "print (a or b)\n",
        "print (not(a and b)) #not = opposite\n",
        "print (not(a or b))   #negation"
      ],
      "execution_count": 41,
      "outputs": [
        {
          "output_type": "stream",
          "name": "stdout",
          "text": [
            "False\n",
            "True\n",
            "True\n",
            "False\n"
          ]
        }
      ]
    },
    {
      "cell_type": "code",
      "metadata": {
        "colab": {
          "base_uri": "https://localhost:8080/"
        },
        "id": "4Dh7htvfAHt-",
        "outputId": "f8603eb1-429e-4255-80e5-22e3de529744"
      },
      "source": [
        "print (a is b) \n",
        "print (a is not b)"
      ],
      "execution_count": 43,
      "outputs": [
        {
          "output_type": "stream",
          "name": "stdout",
          "text": [
            "False\n",
            "True\n"
          ]
        }
      ]
    }
  ]
}